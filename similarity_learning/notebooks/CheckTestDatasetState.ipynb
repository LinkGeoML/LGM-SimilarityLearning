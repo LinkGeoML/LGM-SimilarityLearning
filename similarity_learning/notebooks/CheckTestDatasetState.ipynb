{
 "cells": [
  {
   "cell_type": "code",
   "execution_count": 1,
   "metadata": {},
   "outputs": [],
   "source": [
    "import pandas as pd\n",
    "from tqdm import tqdm\n",
    "from tqdm import tqdm\n",
    "\n",
    "tqdm.pandas()"
   ]
  },
  {
   "cell_type": "code",
   "execution_count": 2,
   "metadata": {},
   "outputs": [],
   "source": [
    "path = '../../data/dataset-string-similarity.txt'"
   ]
  },
  {
   "cell_type": "code",
   "execution_count": 3,
   "metadata": {},
   "outputs": [],
   "source": [
    "df = pd.read_csv(path, sep='\\t', header=None)"
   ]
  },
  {
   "cell_type": "code",
   "execution_count": 4,
   "metadata": {},
   "outputs": [],
   "source": [
    "df.columns = ['name1', 'name2', 'match', 'geoname_id_1', 'geoname_id_2', 'lang1', 'lang2', 'country1', 'country2']"
   ]
  },
  {
   "cell_type": "code",
   "execution_count": 5,
   "metadata": {},
   "outputs": [
    {
     "data": {
      "text/html": [
       "<div>\n",
       "<style scoped>\n",
       "    .dataframe tbody tr th:only-of-type {\n",
       "        vertical-align: middle;\n",
       "    }\n",
       "\n",
       "    .dataframe tbody tr th {\n",
       "        vertical-align: top;\n",
       "    }\n",
       "\n",
       "    .dataframe thead th {\n",
       "        text-align: right;\n",
       "    }\n",
       "</style>\n",
       "<table border=\"1\" class=\"dataframe\">\n",
       "  <thead>\n",
       "    <tr style=\"text-align: right;\">\n",
       "      <th></th>\n",
       "      <th>name1</th>\n",
       "      <th>name2</th>\n",
       "      <th>match</th>\n",
       "      <th>geoname_id_1</th>\n",
       "      <th>geoname_id_2</th>\n",
       "      <th>lang1</th>\n",
       "      <th>lang2</th>\n",
       "      <th>country1</th>\n",
       "      <th>country2</th>\n",
       "    </tr>\n",
       "  </thead>\n",
       "  <tbody>\n",
       "    <tr>\n",
       "      <th>1530619</th>\n",
       "      <td>전남중학교</td>\n",
       "      <td>광주시청</td>\n",
       "      <td>False</td>\n",
       "      <td>11172509</td>\n",
       "      <td>11172510</td>\n",
       "      <td>CJK</td>\n",
       "      <td>CJK</td>\n",
       "      <td>KR</td>\n",
       "      <td>KR</td>\n",
       "    </tr>\n",
       "    <tr>\n",
       "      <th>3377614</th>\n",
       "      <td>El Sol</td>\n",
       "      <td>Río del Sol</td>\n",
       "      <td>True</td>\n",
       "      <td>9625541</td>\n",
       "      <td>9625541</td>\n",
       "      <td>LATIN</td>\n",
       "      <td>LATIN</td>\n",
       "      <td>MX</td>\n",
       "      <td>MX</td>\n",
       "    </tr>\n",
       "    <tr>\n",
       "      <th>666293</th>\n",
       "      <td>Malaja Os'janka</td>\n",
       "      <td>Malaya Oslyanka</td>\n",
       "      <td>False</td>\n",
       "      <td>531472</td>\n",
       "      <td>531473</td>\n",
       "      <td>LATIN</td>\n",
       "      <td>LATIN</td>\n",
       "      <td>RU</td>\n",
       "      <td>RU</td>\n",
       "    </tr>\n",
       "    <tr>\n",
       "      <th>1031899</th>\n",
       "      <td>Arjadzor</td>\n",
       "      <td>Arjadzori</td>\n",
       "      <td>False</td>\n",
       "      <td>10426768</td>\n",
       "      <td>10426769</td>\n",
       "      <td>LATIN</td>\n",
       "      <td>LATIN</td>\n",
       "      <td>AM</td>\n",
       "      <td>AM</td>\n",
       "    </tr>\n",
       "    <tr>\n",
       "      <th>1406059</th>\n",
       "      <td>Paliepiai</td>\n",
       "      <td>Paliepių</td>\n",
       "      <td>False</td>\n",
       "      <td>596212</td>\n",
       "      <td>596213</td>\n",
       "      <td>LATIN</td>\n",
       "      <td>LATIN</td>\n",
       "      <td>LT</td>\n",
       "      <td>LT</td>\n",
       "    </tr>\n",
       "    <tr>\n",
       "      <th>4699636</th>\n",
       "      <td>Guidan Atchyé</td>\n",
       "      <td>Guidan Tadjae</td>\n",
       "      <td>True</td>\n",
       "      <td>2444028</td>\n",
       "      <td>2444028</td>\n",
       "      <td>LATIN</td>\n",
       "      <td>LATIN</td>\n",
       "      <td>NE</td>\n",
       "      <td>NE</td>\n",
       "    </tr>\n",
       "    <tr>\n",
       "      <th>3397083</th>\n",
       "      <td>Omskij Nauchno-issledovatel'skij Institut Prir...</td>\n",
       "      <td>Tsentral’naya Poliklinika Omskogo Rayona</td>\n",
       "      <td>False</td>\n",
       "      <td>8468187</td>\n",
       "      <td>8468188</td>\n",
       "      <td>LATIN</td>\n",
       "      <td>LATIN</td>\n",
       "      <td>RU</td>\n",
       "      <td>RU</td>\n",
       "    </tr>\n",
       "    <tr>\n",
       "      <th>2434695</th>\n",
       "      <td>Aḑ Ḑab‘ah</td>\n",
       "      <td>Kusin</td>\n",
       "      <td>False</td>\n",
       "      <td>283103</td>\n",
       "      <td>283104</td>\n",
       "      <td>LATIN</td>\n",
       "      <td>LATIN</td>\n",
       "      <td>PS</td>\n",
       "      <td>PS</td>\n",
       "    </tr>\n",
       "    <tr>\n",
       "      <th>2231811</th>\n",
       "      <td>Débarégati</td>\n",
       "      <td>Debe Debe Peul</td>\n",
       "      <td>False</td>\n",
       "      <td>2445818</td>\n",
       "      <td>2445819</td>\n",
       "      <td>LATIN</td>\n",
       "      <td>LATIN</td>\n",
       "      <td>NE</td>\n",
       "      <td>NE</td>\n",
       "    </tr>\n",
       "    <tr>\n",
       "      <th>3339243</th>\n",
       "      <td>General Pedro Colorado</td>\n",
       "      <td>Zapotal San Miguel Primera Seccion</td>\n",
       "      <td>False</td>\n",
       "      <td>3802248</td>\n",
       "      <td>3802250</td>\n",
       "      <td>LATIN</td>\n",
       "      <td>LATIN</td>\n",
       "      <td>MX</td>\n",
       "      <td>MX</td>\n",
       "    </tr>\n",
       "  </tbody>\n",
       "</table>\n",
       "</div>"
      ],
      "text/plain": [
       "                                                     name1  \\\n",
       "1530619                                              전남중학교   \n",
       "3377614                                             El Sol   \n",
       "666293                                     Malaja Os'janka   \n",
       "1031899                                           Arjadzor   \n",
       "1406059                                          Paliepiai   \n",
       "4699636                                      Guidan Atchyé   \n",
       "3397083  Omskij Nauchno-issledovatel'skij Institut Prir...   \n",
       "2434695                                          Aḑ Ḑab‘ah   \n",
       "2231811                                         Débarégati   \n",
       "3339243                             General Pedro Colorado   \n",
       "\n",
       "                                            name2  match  geoname_id_1  \\\n",
       "1530619                                      광주시청  False      11172509   \n",
       "3377614                               Río del Sol   True       9625541   \n",
       "666293                            Malaya Oslyanka  False        531472   \n",
       "1031899                                 Arjadzori  False      10426768   \n",
       "1406059                                  Paliepių  False        596212   \n",
       "4699636                             Guidan Tadjae   True       2444028   \n",
       "3397083  Tsentral’naya Poliklinika Omskogo Rayona  False       8468187   \n",
       "2434695                                     Kusin  False        283103   \n",
       "2231811                            Debe Debe Peul  False       2445818   \n",
       "3339243        Zapotal San Miguel Primera Seccion  False       3802248   \n",
       "\n",
       "         geoname_id_2  lang1  lang2 country1 country2  \n",
       "1530619      11172510    CJK    CJK       KR       KR  \n",
       "3377614       9625541  LATIN  LATIN       MX       MX  \n",
       "666293         531473  LATIN  LATIN       RU       RU  \n",
       "1031899      10426769  LATIN  LATIN       AM       AM  \n",
       "1406059        596213  LATIN  LATIN       LT       LT  \n",
       "4699636       2444028  LATIN  LATIN       NE       NE  \n",
       "3397083       8468188  LATIN  LATIN       RU       RU  \n",
       "2434695        283104  LATIN  LATIN       PS       PS  \n",
       "2231811       2445819  LATIN  LATIN       NE       NE  \n",
       "3339243       3802250  LATIN  LATIN       MX       MX  "
      ]
     },
     "execution_count": 5,
     "metadata": {},
     "output_type": "execute_result"
    }
   ],
   "source": [
    "df.sample(10)"
   ]
  },
  {
   "cell_type": "code",
   "execution_count": 6,
   "metadata": {},
   "outputs": [],
   "source": [
    "train = df[: int(len(df)/2)]\n",
    "test = df[int(len(df)/2):]"
   ]
  },
  {
   "cell_type": "code",
   "execution_count": 7,
   "metadata": {},
   "outputs": [],
   "source": [
    "train1 = train[['geoname_id_1', 'name1']].copy()\n",
    "train1.columns = ['gid', 'name']\n",
    "train2 = train[['geoname_id_2', 'name2']].copy()\n",
    "train2.columns = ['gid', 'name']\n",
    "\n",
    "train = pd.concat([train1, train2])"
   ]
  },
  {
   "cell_type": "code",
   "execution_count": 8,
   "metadata": {},
   "outputs": [],
   "source": [
    "test1 = test[['geoname_id_1', 'name1']].copy()\n",
    "test1.columns = ['gid', 'name']\n",
    "test2 = test[['geoname_id_2', 'name2']].copy()\n",
    "test2.columns = ['gid', 'name']\n",
    "\n",
    "test = pd.concat([test1, test2])"
   ]
  },
  {
   "cell_type": "code",
   "execution_count": 9,
   "metadata": {
    "scrolled": true
   },
   "outputs": [],
   "source": [
    "grouped_train = train.groupby('gid').agg({'name': lambda x: set(x)})\n",
    "grouped_test = test.groupby('gid').agg({'name': lambda x: set(x)})"
   ]
  },
  {
   "cell_type": "code",
   "execution_count": 10,
   "metadata": {},
   "outputs": [],
   "source": [
    "out = grouped_train.merge(grouped_test, left_index=True, right_index=True)\n",
    "out.reset_index(inplace=True)\n",
    "out.columns = ['gid', 'train_names_set', 'test_names_set']"
   ]
  },
  {
   "cell_type": "code",
   "execution_count": 12,
   "metadata": {},
   "outputs": [
    {
     "name": "stderr",
     "output_type": "stream",
     "text": [
      "100%|██████████| 1637435/1637435 [00:54<00:00, 29795.71it/s]\n",
      "100%|██████████| 1637435/1637435 [00:01<00:00, 1106176.47it/s]\n"
     ]
    }
   ],
   "source": [
    "out['common'] = out.progress_apply(lambda row: row['train_names_set'] & row['test_names_set'], axis=1)\n",
    "out['len_common'] = out['common'].progress_apply(len)"
   ]
  },
  {
   "cell_type": "code",
   "execution_count": 13,
   "metadata": {},
   "outputs": [],
   "source": [
    "common_df = out[~(out['common'] == set())]"
   ]
  },
  {
   "cell_type": "code",
   "execution_count": 14,
   "metadata": {},
   "outputs": [
    {
     "data": {
      "text/html": [
       "<div>\n",
       "<style scoped>\n",
       "    .dataframe tbody tr th:only-of-type {\n",
       "        vertical-align: middle;\n",
       "    }\n",
       "\n",
       "    .dataframe tbody tr th {\n",
       "        vertical-align: top;\n",
       "    }\n",
       "\n",
       "    .dataframe thead th {\n",
       "        text-align: right;\n",
       "    }\n",
       "</style>\n",
       "<table border=\"1\" class=\"dataframe\">\n",
       "  <thead>\n",
       "    <tr style=\"text-align: right;\">\n",
       "      <th></th>\n",
       "      <th>gid</th>\n",
       "      <th>train_names_set</th>\n",
       "      <th>test_names_set</th>\n",
       "      <th>common</th>\n",
       "      <th>len_common</th>\n",
       "    </tr>\n",
       "  </thead>\n",
       "  <tbody>\n",
       "    <tr>\n",
       "      <th>678233</th>\n",
       "      <td>2500279</td>\n",
       "      <td>{Djebel Djama Draa}</td>\n",
       "      <td>{Djebel Djama Draa, Djebel Djama' Dra'}</td>\n",
       "      <td>{Djebel Djama Draa}</td>\n",
       "      <td>1</td>\n",
       "    </tr>\n",
       "    <tr>\n",
       "      <th>492388</th>\n",
       "      <td>1601397</td>\n",
       "      <td>{Ban Mueang Tao}</td>\n",
       "      <td>{บ้านเมืองเตา, Ban Mueang Tao}</td>\n",
       "      <td>{Ban Mueang Tao}</td>\n",
       "      <td>1</td>\n",
       "    </tr>\n",
       "    <tr>\n",
       "      <th>459648</th>\n",
       "      <td>1496658</td>\n",
       "      <td>{Novotroitskoye, Novotroitskoe}</td>\n",
       "      <td>{Novotroitskoye, Novotroitskoe}</td>\n",
       "      <td>{Novotroitskoye, Novotroitskoe}</td>\n",
       "      <td>2</td>\n",
       "    </tr>\n",
       "    <tr>\n",
       "      <th>110010</th>\n",
       "      <td>257657</td>\n",
       "      <td>{Μάρμαρα, Mármara}</td>\n",
       "      <td>{Marmara, Μάρμαρα, Sadovitsa}</td>\n",
       "      <td>{Μάρμαρα}</td>\n",
       "      <td>1</td>\n",
       "    </tr>\n",
       "    <tr>\n",
       "      <th>219941</th>\n",
       "      <td>533799</td>\n",
       "      <td>{Лубянка}</td>\n",
       "      <td>{Lubjanka, Лубянка}</td>\n",
       "      <td>{Лубянка}</td>\n",
       "      <td>1</td>\n",
       "    </tr>\n",
       "    <tr>\n",
       "      <th>1024309</th>\n",
       "      <td>7099696</td>\n",
       "      <td>{Rongrian Chaloem Mani Chai Witthayakhan, rong...</td>\n",
       "      <td>{Rongrian Chaloem Mani Chai Witthayakhan}</td>\n",
       "      <td>{Rongrian Chaloem Mani Chai Witthayakhan}</td>\n",
       "      <td>1</td>\n",
       "    </tr>\n",
       "    <tr>\n",
       "      <th>1028283</th>\n",
       "      <td>7322881</td>\n",
       "      <td>{er jiao zhen}</td>\n",
       "      <td>{er jiao, Erjiao, er jiao zhen}</td>\n",
       "      <td>{er jiao zhen}</td>\n",
       "      <td>1</td>\n",
       "    </tr>\n",
       "    <tr>\n",
       "      <th>9459</th>\n",
       "      <td>14519</td>\n",
       "      <td>{Darreh Shūr, Shahid Sheykhi-ye Darreh Shur, D...</td>\n",
       "      <td>{Shahid Sheykhi-ye Darreh Shur}</td>\n",
       "      <td>{Shahid Sheykhi-ye Darreh Shur}</td>\n",
       "      <td>1</td>\n",
       "    </tr>\n",
       "    <tr>\n",
       "      <th>1051468</th>\n",
       "      <td>7421572</td>\n",
       "      <td>{hnxng cx nxy}</td>\n",
       "      <td>{hnxng cx nxy}</td>\n",
       "      <td>{hnxng cx nxy}</td>\n",
       "      <td>1</td>\n",
       "    </tr>\n",
       "    <tr>\n",
       "      <th>785290</th>\n",
       "      <td>3385730</td>\n",
       "      <td>{Rio Urahim, Rio Uraim}</td>\n",
       "      <td>{Rio Ururaím, Rio Urahim}</td>\n",
       "      <td>{Rio Urahim}</td>\n",
       "      <td>1</td>\n",
       "    </tr>\n",
       "  </tbody>\n",
       "</table>\n",
       "</div>"
      ],
      "text/plain": [
       "             gid                                    train_names_set  \\\n",
       "678233   2500279                                {Djebel Djama Draa}   \n",
       "492388   1601397                                   {Ban Mueang Tao}   \n",
       "459648   1496658                    {Novotroitskoye, Novotroitskoe}   \n",
       "110010    257657                                 {Μάρμαρα, Mármara}   \n",
       "219941    533799                                          {Лубянка}   \n",
       "1024309  7099696  {Rongrian Chaloem Mani Chai Witthayakhan, rong...   \n",
       "1028283  7322881                                     {er jiao zhen}   \n",
       "9459       14519  {Darreh Shūr, Shahid Sheykhi-ye Darreh Shur, D...   \n",
       "1051468  7421572                                     {hnxng cx nxy}   \n",
       "785290   3385730                            {Rio Urahim, Rio Uraim}   \n",
       "\n",
       "                                    test_names_set  \\\n",
       "678233     {Djebel Djama Draa, Djebel Djama' Dra'}   \n",
       "492388              {บ้านเมืองเตา, Ban Mueang Tao}   \n",
       "459648             {Novotroitskoye, Novotroitskoe}   \n",
       "110010               {Marmara, Μάρμαρα, Sadovitsa}   \n",
       "219941                         {Lubjanka, Лубянка}   \n",
       "1024309  {Rongrian Chaloem Mani Chai Witthayakhan}   \n",
       "1028283            {er jiao, Erjiao, er jiao zhen}   \n",
       "9459               {Shahid Sheykhi-ye Darreh Shur}   \n",
       "1051468                             {hnxng cx nxy}   \n",
       "785290                   {Rio Ururaím, Rio Urahim}   \n",
       "\n",
       "                                            common  len_common  \n",
       "678233                         {Djebel Djama Draa}           1  \n",
       "492388                            {Ban Mueang Tao}           1  \n",
       "459648             {Novotroitskoye, Novotroitskoe}           2  \n",
       "110010                                   {Μάρμαρα}           1  \n",
       "219941                                   {Лубянка}           1  \n",
       "1024309  {Rongrian Chaloem Mani Chai Witthayakhan}           1  \n",
       "1028283                             {er jiao zhen}           1  \n",
       "9459               {Shahid Sheykhi-ye Darreh Shur}           1  \n",
       "1051468                             {hnxng cx nxy}           1  \n",
       "785290                                {Rio Urahim}           1  "
      ]
     },
     "execution_count": 14,
     "metadata": {},
     "output_type": "execute_result"
    }
   ],
   "source": [
    "common_df.sample(10)"
   ]
  },
  {
   "cell_type": "code",
   "execution_count": 15,
   "metadata": {},
   "outputs": [
    {
     "data": {
      "text/plain": [
       "1392225"
      ]
     },
     "execution_count": 15,
     "metadata": {},
     "output_type": "execute_result"
    }
   ],
   "source": [
    "len(common_df)"
   ]
  },
  {
   "cell_type": "code",
   "execution_count": 16,
   "metadata": {},
   "outputs": [],
   "source": [
    "separate_df = out[out['common'] == set()]"
   ]
  },
  {
   "cell_type": "code",
   "execution_count": 17,
   "metadata": {},
   "outputs": [
    {
     "data": {
      "text/plain": [
       "245210"
      ]
     },
     "execution_count": 17,
     "metadata": {},
     "output_type": "execute_result"
    }
   ],
   "source": [
    "len(separate_df)"
   ]
  },
  {
   "cell_type": "code",
   "execution_count": 18,
   "metadata": {},
   "outputs": [],
   "source": [
    "train_ids = set(train['gid'].unique())"
   ]
  },
  {
   "cell_type": "code",
   "execution_count": 19,
   "metadata": {},
   "outputs": [],
   "source": [
    "test_ids = set(test['gid'].unique())"
   ]
  },
  {
   "cell_type": "code",
   "execution_count": 20,
   "metadata": {},
   "outputs": [
    {
     "name": "stdout",
     "output_type": "stream",
     "text": [
      "Number of Training IDs: 1999066\n"
     ]
    }
   ],
   "source": [
    "print(f'Number of Training IDs: {len(train_ids)}')"
   ]
  },
  {
   "cell_type": "code",
   "execution_count": 21,
   "metadata": {},
   "outputs": [
    {
     "name": "stdout",
     "output_type": "stream",
     "text": [
      "Number of Testing IDs: 1999112\n"
     ]
    }
   ],
   "source": [
    "print(f'Number of Testing IDs: {len(test_ids)}')"
   ]
  },
  {
   "cell_type": "code",
   "execution_count": 22,
   "metadata": {},
   "outputs": [
    {
     "name": "stdout",
     "output_type": "stream",
     "text": [
      "Number of Common IDs: 1637435\n"
     ]
    }
   ],
   "source": [
    "common_ids = train_ids & test_ids\n",
    "print(f'Number of Common IDs: {len(common_ids)}')"
   ]
  },
  {
   "cell_type": "code",
   "execution_count": 23,
   "metadata": {},
   "outputs": [
    {
     "name": "stdout",
     "output_type": "stream",
     "text": [
      "Total IDs: 2360743\n"
     ]
    }
   ],
   "source": [
    "all_ids = train_ids | test_ids\n",
    "print(f'Total IDs: {len(all_ids)}')"
   ]
  },
  {
   "cell_type": "code",
   "execution_count": 24,
   "metadata": {},
   "outputs": [
    {
     "name": "stdout",
     "output_type": "stream",
     "text": [
      "Number of \"clean\" training IDs: 361631\n"
     ]
    }
   ],
   "source": [
    "clean_train_ids = train_ids - test_ids\n",
    "print(f'Number of \"clean\" training IDs: {len(clean_train_ids)}')"
   ]
  },
  {
   "cell_type": "code",
   "execution_count": null,
   "metadata": {},
   "outputs": [],
   "source": []
  }
 ],
 "metadata": {
  "kernelspec": {
   "display_name": "Python 3",
   "language": "python",
   "name": "python3"
  },
  "language_info": {
   "codemirror_mode": {
    "name": "ipython",
    "version": 3
   },
   "file_extension": ".py",
   "mimetype": "text/x-python",
   "name": "python",
   "nbconvert_exporter": "python",
   "pygments_lexer": "ipython3",
   "version": "3.7.3"
  }
 },
 "nbformat": 4,
 "nbformat_minor": 2
}
