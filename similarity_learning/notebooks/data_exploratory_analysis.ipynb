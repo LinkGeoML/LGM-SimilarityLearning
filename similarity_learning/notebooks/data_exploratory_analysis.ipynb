{
 "cells": [
  {
   "cell_type": "code",
   "execution_count": 1,
   "metadata": {},
   "outputs": [],
   "source": [
    "import editdistance\n",
    "import matplotlib.pyplot as plt\n",
    "import pandas as pd\n",
    "from tqdm import tqdm\n",
    "from more_itertools import windowed\n",
    "tqdm.pandas()"
   ]
  },
  {
   "cell_type": "code",
   "execution_count": 2,
   "metadata": {},
   "outputs": [],
   "source": [
    "def get_ngrams(text: str, n: int = 3, step=1) -> str:\n",
    "    \"\"\"\n",
    "\n",
    "    :param text:\n",
    "    :param n:\n",
    "    :param step:\n",
    "    :return:\n",
    "    \"\"\"\n",
    "\n",
    "    output = []\n",
    "\n",
    "    # split the sentence in tokens.\n",
    "    tokens = text.split()\n",
    "\n",
    "    # if only one token, then we only have BOS and EOS tags\n",
    "    if len(tokens) == 1:\n",
    "\n",
    "        chars = ['<BOS>'] + list(text) + ['<EOS>']\n",
    "        text = ' '.join(\n",
    "            [''.join(t) for t in windowed(seq=chars, n=3, step=1)])\n",
    "        output.append(text)\n",
    "\n",
    "    # We have more than 1 tokens. So we need 3 kind of tags:\n",
    "    # BOS: beginning of sentence\n",
    "    # IOS: inside of sentence\n",
    "    # EOS: end of sentence\n",
    "    else:\n",
    "        # extracting the first token, a list of the inside tokens, and the\n",
    "        # last token. We handle each one differently\n",
    "        first, *inside, last = tokens\n",
    "\n",
    "        # in the first token we put BOS tag in the beginning of the token\n",
    "        # and IOS at the end, since the sentence is not over.\n",
    "        # We also split to first token to it's characters, so we can get\n",
    "        # the n-grams.\n",
    "        first_chars = ['<BOS>'] + list(first) + ['<IOS>']\n",
    "\n",
    "        # create the n-gram texts and join them back together with a ' '\n",
    "        first_chars = ' '.join(\n",
    "            [''.join(t)\n",
    "             for t in windowed(seq=first_chars, n=n, step=step)])\n",
    "\n",
    "        # append the \"n-gramed\" token to the output list\n",
    "        output.append(first_chars)\n",
    "\n",
    "        for ins_token in inside:\n",
    "            # for each of the inside tokens use only the IOS tags\n",
    "            # we do the same procedure as in the first token.\n",
    "            inside_chars = ['<IOS>'] + list(ins_token) + ['<IOS>']\n",
    "\n",
    "            inside_chars = ' '.join(\n",
    "                [''.join(t) for t in\n",
    "                 windowed(seq=inside_chars, n=n, step=step)])\n",
    "\n",
    "            output.append(inside_chars)\n",
    "\n",
    "        # for the last token we use IOS and EOS tags.\n",
    "        # Same procedure as before.\n",
    "        last_chars = ['<IOS>'] + list(last) + ['<EOS>']\n",
    "\n",
    "        last_chars = ' '.join(\n",
    "            [''.join(t) for t in windowed(seq=last_chars, n=3, step=1)])\n",
    "\n",
    "        output.append(last_chars)\n",
    "\n",
    "    return ' '.join(output)"
   ]
  },
  {
   "cell_type": "code",
   "execution_count": 3,
   "metadata": {},
   "outputs": [
    {
     "name": "stderr",
     "output_type": "stream",
     "text": [
      "/home/gperakis/.local/share/virtualenvs/LGM-SimilarityLearning-L8_qfM0A/lib/python3.7/site-packages/IPython/core/interactiveshell.py:3058: DtypeWarning: Columns (5) have mixed types. Specify dtype option on import or set low_memory=False.\n",
      "  interactivity=interactivity, compiler=compiler, result=result)\n",
      "100%|██████████| 11947366/11947366 [00:18<00:00, 645220.23it/s] \n",
      "100%|██████████| 11947366/11947366 [00:10<00:00, 1128623.61it/s]\n"
     ]
    },
    {
     "data": {
      "text/html": [
       "<div>\n",
       "<style scoped>\n",
       "    .dataframe tbody tr th:only-of-type {\n",
       "        vertical-align: middle;\n",
       "    }\n",
       "\n",
       "    .dataframe tbody tr th {\n",
       "        vertical-align: top;\n",
       "    }\n",
       "\n",
       "    .dataframe thead th {\n",
       "        text-align: right;\n",
       "    }\n",
       "</style>\n",
       "<table border=\"1\" class=\"dataframe\">\n",
       "  <thead>\n",
       "    <tr style=\"text-align: right;\">\n",
       "      <th></th>\n",
       "      <th>geonameid</th>\n",
       "      <th>name</th>\n",
       "      <th>ascii_name</th>\n",
       "      <th>alternate_names</th>\n",
       "      <th>country_code</th>\n",
       "      <th>cc2</th>\n",
       "      <th>name_len</th>\n",
       "      <th>n_alternates</th>\n",
       "    </tr>\n",
       "  </thead>\n",
       "  <tbody>\n",
       "    <tr>\n",
       "      <th>0</th>\n",
       "      <td>2986043</td>\n",
       "      <td>pic de font blanca</td>\n",
       "      <td>Pic de Font Blanca</td>\n",
       "      <td>[pic de font blanca, pic du port]</td>\n",
       "      <td>AD</td>\n",
       "      <td>None</td>\n",
       "      <td>18</td>\n",
       "      <td>2</td>\n",
       "    </tr>\n",
       "    <tr>\n",
       "      <th>1</th>\n",
       "      <td>2994701</td>\n",
       "      <td>roc mélé</td>\n",
       "      <td>Roc Mele</td>\n",
       "      <td>[roc mele, roc meler, roc mélé]</td>\n",
       "      <td>AD</td>\n",
       "      <td>AD,FR</td>\n",
       "      <td>8</td>\n",
       "      <td>3</td>\n",
       "    </tr>\n",
       "    <tr>\n",
       "      <th>2</th>\n",
       "      <td>3007683</td>\n",
       "      <td>pic des langounelles</td>\n",
       "      <td>Pic des Langounelles</td>\n",
       "      <td>[pic des langounelles]</td>\n",
       "      <td>AD</td>\n",
       "      <td>AD,FR</td>\n",
       "      <td>20</td>\n",
       "      <td>1</td>\n",
       "    </tr>\n",
       "    <tr>\n",
       "      <th>3</th>\n",
       "      <td>3017832</td>\n",
       "      <td>pic de les abelletes</td>\n",
       "      <td>Pic de les Abelletes</td>\n",
       "      <td>[pic de la font-negre, pic de la font-nègre, p...</td>\n",
       "      <td>AD</td>\n",
       "      <td>FR</td>\n",
       "      <td>20</td>\n",
       "      <td>3</td>\n",
       "    </tr>\n",
       "    <tr>\n",
       "      <th>4</th>\n",
       "      <td>3017833</td>\n",
       "      <td>estany de les abelletes</td>\n",
       "      <td>Estany de les Abelletes</td>\n",
       "      <td>[estany de les abelletes, etang de font-negre,...</td>\n",
       "      <td>AD</td>\n",
       "      <td>FR</td>\n",
       "      <td>23</td>\n",
       "      <td>3</td>\n",
       "    </tr>\n",
       "  </tbody>\n",
       "</table>\n",
       "</div>"
      ],
      "text/plain": [
       "   geonameid                     name               ascii_name  \\\n",
       "0    2986043       pic de font blanca       Pic de Font Blanca   \n",
       "1    2994701                 roc mélé                 Roc Mele   \n",
       "2    3007683     pic des langounelles     Pic des Langounelles   \n",
       "3    3017832     pic de les abelletes     Pic de les Abelletes   \n",
       "4    3017833  estany de les abelletes  Estany de les Abelletes   \n",
       "\n",
       "                                     alternate_names country_code    cc2  \\\n",
       "0                  [pic de font blanca, pic du port]           AD   None   \n",
       "1                    [roc mele, roc meler, roc mélé]           AD  AD,FR   \n",
       "2                             [pic des langounelles]           AD  AD,FR   \n",
       "3  [pic de la font-negre, pic de la font-nègre, p...           AD     FR   \n",
       "4  [estany de les abelletes, etang de font-negre,...           AD     FR   \n",
       "\n",
       "   name_len  n_alternates  \n",
       "0        18             2  \n",
       "1         8             3  \n",
       "2        20             1  \n",
       "3        20             3  \n",
       "4        23             3  "
      ]
     },
     "execution_count": 3,
     "metadata": {},
     "output_type": "execute_result"
    }
   ],
   "source": [
    "# read dataset\n",
    "df = pd.read_csv('../data/all_countries_filtered_columns.csv',\n",
    "#                  nrows=10000\n",
    "                )\n",
    "# convert NaN to None\n",
    "df = df.where((pd.notnull(df)), None)\n",
    "# drop the rows with empty toponym\n",
    "df.dropna(subset=['name'], inplace=True)\n",
    "# calculate the toponym length\n",
    "df['name_len'] = df['name'].str.len()\n",
    "# convert to lowercase all toponyms\n",
    "df['name'] = df['name'].str.lower()\n",
    "# convert to lowercase all alternate names\n",
    "df['alternate_names'] = df['alternate_names'].str.lower()\n",
    "# get the list of alternate names for each row\n",
    "df['alternate_names'] = df['alternate_names'].progress_apply(lambda x: x.split(',') if x else [])\n",
    "# count the number of alternate names \n",
    "df['n_alternates'] = df['alternate_names'].progress_apply(len)\n",
    "\n",
    "df.head()"
   ]
  },
  {
   "cell_type": "code",
   "execution_count": 4,
   "metadata": {},
   "outputs": [
    {
     "name": "stderr",
     "output_type": "stream",
     "text": [
      "100%|██████████| 11947366/11947366 [02:10<00:00, 91638.06it/s] \n",
      "100%|██████████| 11947366/11947366 [00:11<00:00, 1065443.80it/s]\n"
     ]
    }
   ],
   "source": [
    "# split the toponym's in their trigrams\n",
    "df['name_trigrams'] = df['name'].progress_apply(get_ngrams).str.split()\n",
    "# count the number of trigrams for each toponym.\n",
    "df['n_name_trigrams'] = df['name_trigrams'].progress_apply(len)"
   ]
  },
  {
   "cell_type": "code",
   "execution_count": 5,
   "metadata": {},
   "outputs": [
    {
     "data": {
      "text/plain": [
       "count    1.194737e+07\n",
       "mean     1.309666e+01\n",
       "std      7.238099e+00\n",
       "min      1.000000e+00\n",
       "10%      6.000000e+00\n",
       "25%      8.000000e+00\n",
       "50%      1.100000e+01\n",
       "75%      1.600000e+01\n",
       "90%      2.200000e+01\n",
       "max      1.510000e+02\n",
       "Name: name_len, dtype: float64"
      ]
     },
     "execution_count": 5,
     "metadata": {},
     "output_type": "execute_result"
    }
   ],
   "source": [
    "df['name_len'].describe(percentiles=[.10, .25, .5, .75, .90])"
   ]
  },
  {
   "cell_type": "code",
   "execution_count": 6,
   "metadata": {},
   "outputs": [
    {
     "data": {
      "text/plain": [
       "<matplotlib.axes._subplots.AxesSubplot at 0x7fbc1991fcc0>"
      ]
     },
     "execution_count": 6,
     "metadata": {},
     "output_type": "execute_result"
    },
    {
     "data": {
      "image/png": "[encoded data removed]",
      "text/plain": [
       "<Figure size 1152x576 with 1 Axes>"
      ]
     },
     "metadata": {
      "needs_background": "light"
     },
     "output_type": "display_data"
    }
   ],
   "source": [
    "df['name_len'].plot.hist(bins=50, figsize=(16, 8))"
   ]
  },
  {
   "cell_type": "code",
   "execution_count": 7,
   "metadata": {},
   "outputs": [],
   "source": [
    "# flatten all trigrams\n",
    "name_trigrams_df = pd.DataFrame(\n",
    "    {'trigram': [item for sublist in df['name_trigrams'] for item in sublist]})\n",
    "\n",
    "# count the # counts for each trigram\n",
    "name_trigrams_df = name_trigrams_df.groupby('trigram').size().sort_values(\n",
    "    ascending=False)"
   ]
  },
  {
   "cell_type": "code",
   "execution_count": 8,
   "metadata": {
    "scrolled": true
   },
   "outputs": [
    {
     "data": {
      "text/plain": [
       "trigram\n",
       "ang        614040\n",
       "an<IOS>    471828\n",
       "ng<EOS>    448307\n",
       "ter        398685\n",
       "ong        390369\n",
       "<IOS>ch    384520\n",
       "ing        382187\n",
       "and        361102\n",
       "<BOS>ba    356463\n",
       "el<IOS>    349530\n",
       "<IOS>la    343828\n",
       "<BOS>la    337249\n",
       "<BOS>sa    331226\n",
       "en<EOS>    316181\n",
       "ran        314887\n",
       "er<IOS>    311149\n",
       "ill        310582\n",
       "<IOS>de    308362\n",
       "ch<EOS>    307107\n",
       "<BOS>ma    306072\n",
       "an<EOS>    303811\n",
       "ng<IOS>    303123\n",
       "ree        299303\n",
       "ist        295862\n",
       "al<IOS>    294362\n",
       "on<IOS>    291001\n",
       "cho        286737\n",
       "ent        277003\n",
       "cha        269273\n",
       "han        267131\n",
       "            ...  \n",
       "pqī             1\n",
       "pqr             1\n",
       "pqn             1\n",
       "pqi             1\n",
       "pqe             1\n",
       "pqd             1\n",
       "pqc             1\n",
       "prų             1\n",
       "prơ             1\n",
       "ps.             1\n",
       "ptä             1\n",
       "ptš             1\n",
       "ptō             1\n",
       "ptē             1\n",
       "ptč             1\n",
       "ptü             1\n",
       "ptö             1\n",
       "ptï             1\n",
       "ptæ             1\n",
       "pt@             1\n",
       "ps1             1\n",
       "pt:             1\n",
       "pt6             1\n",
       "pt4             1\n",
       "pt,             1\n",
       "pt(             1\n",
       "psė             1\n",
       "psþ             1\n",
       "psê             1\n",
       "!)<EOS>         1\n",
       "Length: 125352, dtype: int64"
      ]
     },
     "execution_count": 8,
     "metadata": {},
     "output_type": "execute_result"
    }
   ],
   "source": [
    "name_trigrams_df"
   ]
  },
  {
   "cell_type": "code",
   "execution_count": 9,
   "metadata": {},
   "outputs": [
    {
     "name": "stdout",
     "output_type": "stream",
     "text": [
      "Total Number of Toponym Trigrams: 125352\n"
     ]
    }
   ],
   "source": [
    "print('Total Number of Toponym Trigrams: {}'.format(len(name_trigrams_df)))"
   ]
  },
  {
   "cell_type": "code",
   "execution_count": 10,
   "metadata": {},
   "outputs": [
    {
     "data": {
      "image/png": "[encoded data removed]",
      "text/plain": [
       "<Figure size 1152x576 with 1 Axes>"
      ]
     },
     "metadata": {
      "needs_background": "light"
     },
     "output_type": "display_data"
    }
   ],
   "source": [
    "plt.figure(figsize=(16, 8))\n",
    "plt.plot(name_trigrams_df.values)\n",
    "plt.xlabel('Number of Trigrams')\n",
    "plt.ylabel('# Counts')\n",
    "plt.title('Trigrams Distribution')\n",
    "\n",
    "del name_trigrams_df"
   ]
  },
  {
   "cell_type": "code",
   "execution_count": 11,
   "metadata": {},
   "outputs": [
    {
     "data": {
      "text/plain": [
       "<matplotlib.axes._subplots.AxesSubplot at 0x7fb7f3f373c8>"
      ]
     },
     "execution_count": 11,
     "metadata": {},
     "output_type": "execute_result"
    },
    {
     "data": {
      "image/png": "[encoded data removed]",
      "text/plain": [
       "<Figure size 1152x576 with 1 Axes>"
      ]
     },
     "metadata": {
      "needs_background": "light"
     },
     "output_type": "display_data"
    }
   ],
   "source": [
    "# plot histogram for the number of alternate names\n",
    "df['n_alternates'].plot.hist(bins=range(20), figsize=(16, 8), \n",
    "                             title='Number of Alt-Names histogram',)"
   ]
  },
  {
   "cell_type": "code",
   "execution_count": 12,
   "metadata": {},
   "outputs": [
    {
     "name": "stdout",
     "output_type": "stream",
     "text": [
      "count    1.194737e+07\n",
      "mean     1.216658e+01\n",
      "std      6.275184e+00\n",
      "min      1.000000e+00\n",
      "10%      6.000000e+00\n",
      "25%      8.000000e+00\n",
      "50%      1.100000e+01\n",
      "75%      1.400000e+01\n",
      "90%      2.000000e+01\n",
      "max      1.340000e+02\n",
      "Name: n_name_trigrams, dtype: float64\n"
     ]
    }
   ],
   "source": [
    "print(df['n_name_trigrams'].describe(percentiles=[.10, .25, .5, .75, .90]))"
   ]
  },
  {
   "cell_type": "code",
   "execution_count": 13,
   "metadata": {
    "scrolled": true
   },
   "outputs": [
    {
     "data": {
      "text/plain": [
       "country_code\n",
       "US    2237565\n",
       "CN     777591\n",
       "IN     648819\n",
       "NO     605528\n",
       "MX     450169\n",
       "ID     385192\n",
       "RU     357796\n",
       "CA     313410\n",
       "TH     255185\n",
       "IR     236636\n",
       "PK     225873\n",
       "AU     213526\n",
       "DE     197181\n",
       "MA     152971\n",
       "FR     146720\n",
       "NP     134189\n",
       "KR     131710\n",
       "IT     118939\n",
       "BR     114886\n",
       "PE     104827\n",
       "ZA     102844\n",
       "JP      99771\n",
       "SE      96305\n",
       "PH      93235\n",
       "YE      92462\n",
       "FI      86204\n",
       "ES      85418\n",
       "TR      85078\n",
       "CH      82264\n",
       "CO      78065\n",
       "       ...   \n",
       "BQ        462\n",
       "DM        421\n",
       "SZ        418\n",
       "KY        366\n",
       "TV        341\n",
       "NU        324\n",
       "MS        298\n",
       "UM        280\n",
       "GI        251\n",
       "AI        234\n",
       "MF        227\n",
       "SX        198\n",
       "MO        173\n",
       "IM        165\n",
       "BL        132\n",
       "TK        118\n",
       "IO        118\n",
       "NR        108\n",
       "MC         99\n",
       "HM         97\n",
       "CX         87\n",
       "NF         81\n",
       "SM         71\n",
       "CC         60\n",
       "BV         47\n",
       "PN         41\n",
       "VA         26\n",
       "AN          2\n",
       "CS          2\n",
       "YU          1\n",
       "Name: country_code, Length: 252, dtype: int64"
      ]
     },
     "execution_count": 13,
     "metadata": {},
     "output_type": "execute_result"
    }
   ],
   "source": [
    "# country code stats\n",
    "df.groupby('country_code')['country_code'].size().sort_values(ascending=False)"
   ]
  },
  {
   "cell_type": "code",
   "execution_count": 14,
   "metadata": {},
   "outputs": [
    {
     "name": "stderr",
     "output_type": "stream",
     "text": [
      "100%|██████████| 11947366/11947366 [00:14<00:00, 843813.62it/s]\n"
     ]
    }
   ],
   "source": [
    "chars = set()\n",
    "for name in tqdm(df['name']):\n",
    "    name = set(name.lower())\n",
    "    chars.update(name)"
   ]
  },
  {
   "cell_type": "code",
   "execution_count": 15,
   "metadata": {},
   "outputs": [
    {
     "name": "stdout",
     "output_type": "stream",
     "text": [
      "Number of Unique Characters in Names: 791\n"
     ]
    }
   ],
   "source": [
    "print('Number of Unique Characters in Names: {}'.format(len(chars)))"
   ]
  },
  {
   "cell_type": "code",
   "execution_count": 16,
   "metadata": {},
   "outputs": [
    {
     "name": "stderr",
     "output_type": "stream",
     "text": [
      "100%|██████████| 11947366/11947366 [00:42<00:00, 279968.02it/s]\n"
     ]
    }
   ],
   "source": [
    "for l in tqdm(df['alternate_names']):\n",
    "    if l:\n",
    "        for alt_name in l:\n",
    "            alt_name = set(alt_name)\n",
    "            chars.update(name)"
   ]
  },
  {
   "cell_type": "code",
   "execution_count": 17,
   "metadata": {},
   "outputs": [
    {
     "name": "stdout",
     "output_type": "stream",
     "text": [
      "Number of Unique Characters in all corpora: 791\n"
     ]
    }
   ],
   "source": [
    "print('Number of Unique Characters in all corpora: {}'.format(len(chars)))"
   ]
  },
  {
   "cell_type": "code",
   "execution_count": 18,
   "metadata": {},
   "outputs": [],
   "source": [
    "def get_distances(toponym: str, alternates: list, gid: str):\n",
    "    \"\"\"\n",
    "\n",
    "    :param toponym:\n",
    "    :param alternates:\n",
    "    :param gid:\n",
    "    :return:\n",
    "    \"\"\"\n",
    "    out = list()\n",
    "\n",
    "    if alternates:\n",
    "        name_tokens = toponym.split()\n",
    "\n",
    "        for alt in alternates:\n",
    "            char_dist = editdistance.eval(toponym, alt)\n",
    "\n",
    "            alt_tokens = alt.split()\n",
    "\n",
    "            tokens_dist = editdistance.eval(name_tokens, alt_tokens)\n",
    "\n",
    "            out.append({'anchor': toponym,\n",
    "                        'alternate': alt,\n",
    "                        'char_distance': char_dist,\n",
    "                        'tokens_distance': tokens_dist,\n",
    "                        'n_name_tokens': len(name_tokens),\n",
    "                        'n_alt_name_tokens': len(alt_tokens),\n",
    "                        'gid': gid})\n",
    "\n",
    "    return out"
   ]
  },
  {
   "cell_type": "code",
   "execution_count": 19,
   "metadata": {},
   "outputs": [],
   "source": [
    "df = df[['name', 'alternate_names', 'geonameid']]"
   ]
  },
  {
   "cell_type": "code",
   "execution_count": 20,
   "metadata": {},
   "outputs": [
    {
     "name": "stderr",
     "output_type": "stream",
     "text": [
      "100%|██████████| 11947366/11947366 [22:33<00:00, 8825.48it/s]\n"
     ]
    }
   ],
   "source": [
    "alternates = list()\n",
    "\n",
    "for row in tqdm(df.iterrows(), total=len(df)):\n",
    "    doc = row[1]\n",
    "    res = get_distances(doc['name'],\n",
    "                        doc['alternate_names'],\n",
    "                        doc['geonameid'])\n",
    "    alternates.extend(res)"
   ]
  },
  {
   "cell_type": "code",
   "execution_count": 21,
   "metadata": {},
   "outputs": [],
   "source": [
    "del df"
   ]
  },
  {
   "cell_type": "code",
   "execution_count": 22,
   "metadata": {},
   "outputs": [],
   "source": [
    "cols = [\n",
    "    'gid',\n",
    "    'anchor',\n",
    "    'alternate',\n",
    "    'len_anchor',\n",
    "    'len_alternate',\n",
    "    'n_name_tokens',\n",
    "    'n_alt_name_tokens',\n",
    "    'char_distance',\n",
    "    'tokens_distance',\n",
    "    'char_distance_prc',\n",
    "    'tokens_distance_prc']"
   ]
  },
  {
   "cell_type": "code",
   "execution_count": 23,
   "metadata": {},
   "outputs": [
    {
     "data": {
      "text/html": [
       "<div>\n",
       "<style scoped>\n",
       "    .dataframe tbody tr th:only-of-type {\n",
       "        vertical-align: middle;\n",
       "    }\n",
       "\n",
       "    .dataframe tbody tr th {\n",
       "        vertical-align: top;\n",
       "    }\n",
       "\n",
       "    .dataframe thead th {\n",
       "        text-align: right;\n",
       "    }\n",
       "</style>\n",
       "<table border=\"1\" class=\"dataframe\">\n",
       "  <thead>\n",
       "    <tr style=\"text-align: right;\">\n",
       "      <th></th>\n",
       "      <th>gid</th>\n",
       "      <th>anchor</th>\n",
       "      <th>alternate</th>\n",
       "      <th>len_anchor</th>\n",
       "      <th>len_alternate</th>\n",
       "      <th>n_name_tokens</th>\n",
       "      <th>n_alt_name_tokens</th>\n",
       "      <th>char_distance</th>\n",
       "      <th>tokens_distance</th>\n",
       "      <th>char_distance_prc</th>\n",
       "      <th>tokens_distance_prc</th>\n",
       "    </tr>\n",
       "  </thead>\n",
       "  <tbody>\n",
       "    <tr>\n",
       "      <th>0</th>\n",
       "      <td>2986043</td>\n",
       "      <td>pic de font blanca</td>\n",
       "      <td>pic de font blanca</td>\n",
       "      <td>18</td>\n",
       "      <td>18</td>\n",
       "      <td>4</td>\n",
       "      <td>4</td>\n",
       "      <td>0</td>\n",
       "      <td>0</td>\n",
       "      <td>0.000000</td>\n",
       "      <td>0.00</td>\n",
       "    </tr>\n",
       "    <tr>\n",
       "      <th>1</th>\n",
       "      <td>2986043</td>\n",
       "      <td>pic de font blanca</td>\n",
       "      <td>pic du port</td>\n",
       "      <td>18</td>\n",
       "      <td>11</td>\n",
       "      <td>4</td>\n",
       "      <td>3</td>\n",
       "      <td>10</td>\n",
       "      <td>3</td>\n",
       "      <td>0.555556</td>\n",
       "      <td>0.75</td>\n",
       "    </tr>\n",
       "    <tr>\n",
       "      <th>2</th>\n",
       "      <td>2994701</td>\n",
       "      <td>roc mélé</td>\n",
       "      <td>roc mele</td>\n",
       "      <td>8</td>\n",
       "      <td>8</td>\n",
       "      <td>2</td>\n",
       "      <td>2</td>\n",
       "      <td>2</td>\n",
       "      <td>1</td>\n",
       "      <td>0.250000</td>\n",
       "      <td>0.50</td>\n",
       "    </tr>\n",
       "    <tr>\n",
       "      <th>3</th>\n",
       "      <td>2994701</td>\n",
       "      <td>roc mélé</td>\n",
       "      <td>roc meler</td>\n",
       "      <td>8</td>\n",
       "      <td>9</td>\n",
       "      <td>2</td>\n",
       "      <td>2</td>\n",
       "      <td>3</td>\n",
       "      <td>1</td>\n",
       "      <td>0.375000</td>\n",
       "      <td>0.50</td>\n",
       "    </tr>\n",
       "    <tr>\n",
       "      <th>4</th>\n",
       "      <td>2994701</td>\n",
       "      <td>roc mélé</td>\n",
       "      <td>roc mélé</td>\n",
       "      <td>8</td>\n",
       "      <td>8</td>\n",
       "      <td>2</td>\n",
       "      <td>2</td>\n",
       "      <td>0</td>\n",
       "      <td>0</td>\n",
       "      <td>0.000000</td>\n",
       "      <td>0.00</td>\n",
       "    </tr>\n",
       "  </tbody>\n",
       "</table>\n",
       "</div>"
      ],
      "text/plain": [
       "       gid              anchor           alternate  len_anchor  len_alternate  \\\n",
       "0  2986043  pic de font blanca  pic de font blanca          18             18   \n",
       "1  2986043  pic de font blanca         pic du port          18             11   \n",
       "2  2994701            roc mélé            roc mele           8              8   \n",
       "3  2994701            roc mélé           roc meler           8              9   \n",
       "4  2994701            roc mélé            roc mélé           8              8   \n",
       "\n",
       "   n_name_tokens  n_alt_name_tokens  char_distance  tokens_distance  \\\n",
       "0              4                  4              0                0   \n",
       "1              4                  3             10                3   \n",
       "2              2                  2              2                1   \n",
       "3              2                  2              3                1   \n",
       "4              2                  2              0                0   \n",
       "\n",
       "   char_distance_prc  tokens_distance_prc  \n",
       "0           0.000000                 0.00  \n",
       "1           0.555556                 0.75  \n",
       "2           0.250000                 0.50  \n",
       "3           0.375000                 0.50  \n",
       "4           0.000000                 0.00  "
      ]
     },
     "execution_count": 23,
     "metadata": {},
     "output_type": "execute_result"
    }
   ],
   "source": [
    "distances_df = pd.DataFrame(alternates)\n",
    "distances_df['len_anchor'] = distances_df['anchor'].str.len()\n",
    "distances_df['len_alternate'] = distances_df['alternate'].str.len()\n",
    "\n",
    "distances_df['char_distance_prc'] = distances_df['char_distance'] / distances_df['len_anchor']\n",
    "distances_df['tokens_distance_prc'] = distances_df['tokens_distance'] / distances_df['n_name_tokens']\n",
    "\n",
    "distances_df = distances_df[cols]\n",
    "\n",
    "distances_df.head()"
   ]
  },
  {
   "cell_type": "code",
   "execution_count": 24,
   "metadata": {},
   "outputs": [],
   "source": [
    "distances_path = '../data/toponym_distances.csv'"
   ]
  },
  {
   "cell_type": "code",
   "execution_count": 25,
   "metadata": {},
   "outputs": [],
   "source": [
    "distances_df.to_csv(distances_path, encoding='utf-8', index=False)"
   ]
  }
 ],
 "metadata": {
  "kernelspec": {
   "display_name": "Python 3",
   "language": "python",
   "name": "python3"
  },
  "language_info": {
   "codemirror_mode": {
    "name": "ipython",
    "version": 3
   },
   "file_extension": ".py",
   "mimetype": "text/x-python",
   "name": "python",
   "nbconvert_exporter": "python",
   "pygments_lexer": "ipython3",
   "version": "3.7.3"
  }
 },
 "nbformat": 4,
 "nbformat_minor": 2
}
