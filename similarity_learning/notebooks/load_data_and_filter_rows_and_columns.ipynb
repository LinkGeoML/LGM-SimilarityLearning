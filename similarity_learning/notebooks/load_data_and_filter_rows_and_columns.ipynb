{
 "cells": [
  {
   "cell_type": "code",
   "execution_count": 1,
   "metadata": {},
   "outputs": [],
   "source": [
    "import pandas as pd\n",
    "import matplotlib.pyplot as plt\n",
    "import os"
   ]
  },
  {
   "cell_type": "code",
   "execution_count": 2,
   "metadata": {},
   "outputs": [],
   "source": [
    "df = pd.read_csv('../../data/dataset-string-similarity.txt', sep='\\t', header=None)"
   ]
  },
  {
   "cell_type": "code",
   "execution_count": 3,
   "metadata": {},
   "outputs": [],
   "source": [
    "df.columns = [\n",
    "    'name1',\n",
    "    'name2',\n",
    "    'target',\n",
    "    'geonameid_1',\n",
    "    'geonameid_2',\n",
    "    'lang1',\n",
    "    'lang2',\n",
    "    'cc1',\n",
    "    'cc2'\n",
    "]"
   ]
  },
  {
   "cell_type": "code",
   "execution_count": 4,
   "metadata": {},
   "outputs": [],
   "source": [
    "indexes = set(df['geonameid_1']) | set(df['geonameid_2'])"
   ]
  },
  {
   "cell_type": "code",
   "execution_count": 5,
   "metadata": {},
   "outputs": [
    {
     "name": "stdout",
     "output_type": "stream",
     "text": [
      "Number of Indexes: 2360743\n"
     ]
    }
   ],
   "source": [
    "print(f'Number of Indexes: {len(indexes)}')"
   ]
  },
  {
   "cell_type": "markdown",
   "metadata": {},
   "source": [
    "- geonameid         : integer id of record in geonames database\n",
    "- name              : name of geographical point (utf8) varchar(200)\n",
    "- asciiname         : name of geographical point in plain ascii characters, varchar(200)\n",
    "- alternatenames    : alternatenames, comma separated, ascii names automatically transliterated, convenience attribute - - from alternatename table, varchar(10000)\n",
    "- latitude          : latitude in decimal degrees (wgs84)\n",
    "- longitude         : longitude in decimal degrees (wgs84)\n",
    "- feature class     : see http://www.geonames.org/export/codes.html, char(1)\n",
    "- feature code      : see http://www.geonames.org/export/codes.html, varchar(10)\n",
    "- country code      : ISO-3166 2-letter country code, 2 characters\n",
    "- cc2               : alternate country codes, comma separated, ISO-3166 2-letter country code, 200 characters\n",
    "- admin1 code       : fipscode (subject to change to iso code), see exceptions below, see file admin1Codes.txt for display names of this code; varchar(20)\n",
    "- admin2 code       : code for the second administrative division, a county in the US, see file admin2Codes.txt; varchar(80) \n",
    "- admin3 code       : code for third level administrative division, varchar(20)\n",
    "- admin4 code       : code for fourth level administrative division, varchar(20)\n",
    "- population        : bigint (8 byte int) \n",
    "- elevation         : in meters, integer\n",
    "- dem               : digital elevation model, srtm3 or gtopo30, average elevation of 3''x3'' (ca 90mx90m) or 30''x30'' (ca 900mx900m) area in meters, integer. srtm processed by cgiar/ciat.\n",
    "- timezone          : the iana timezone id (see file timeZone.txt) varchar(40)\n",
    "- modification date : date of last modification in yyyy-MM-dd format\n"
   ]
  },
  {
   "cell_type": "code",
   "execution_count": 6,
   "metadata": {},
   "outputs": [],
   "source": [
    "cols = ['geonameid', 'name', 'ascii_name', 'alternate_names',\n",
    "        'latitude', 'longitude', 'feature_class', 'feature_code',\n",
    "        'country_code', 'cc2', 'admin1_code', 'admin2_code',\n",
    "        'admin3_code', 'admin4_code', 'population', 'elevation',\n",
    "        'dem', 'timezone', 'modification_date']"
   ]
  },
  {
   "cell_type": "code",
   "execution_count": 7,
   "metadata": {},
   "outputs": [
    {
     "name": "stderr",
     "output_type": "stream",
     "text": [
      "/home/gperakis/.local/share/virtualenvs/LGM-SimilarityLearning-L8_qfM0A/lib/python3.7/site-packages/IPython/core/interactiveshell.py:3058: DtypeWarning: Columns (9,10,11,12,13) have mixed types. Specify dtype option on import or set low_memory=False.\n",
      "  interactivity=interactivity, compiler=compiler, result=result)\n"
     ]
    }
   ],
   "source": [
    "all_countries = pd.read_csv('../../data/allCountries.txt',\n",
    "                            sep='\\t',\n",
    "                            header=None,\n",
    "                            names=cols) "
   ]
  },
  {
   "cell_type": "code",
   "execution_count": 8,
   "metadata": {},
   "outputs": [],
   "source": [
    "all_countries = all_countries.where((pd.notnull(all_countries)), None)"
   ]
  },
  {
   "cell_type": "code",
   "execution_count": 9,
   "metadata": {},
   "outputs": [],
   "source": [
    "drop_cols = ['latitude', 'longitude', 'feature_class', 'feature_code',\n",
    "             'admin1_code', 'admin2_code', 'admin3_code', 'admin4_code', \n",
    "             'population', 'elevation', 'dem', 'timezone', 'modification_date']"
   ]
  },
  {
   "cell_type": "code",
   "execution_count": 10,
   "metadata": {},
   "outputs": [],
   "source": [
    "all_countries.drop(columns=drop_cols, axis=1, inplace=True)"
   ]
  },
  {
   "cell_type": "code",
   "execution_count": 11,
   "metadata": {},
   "outputs": [],
   "source": [
    "all_countries.to_csv('../../data/all_countries_filtered_columns.csv', index=False, encoding='utf-8')"
   ]
  },
  {
   "cell_type": "code",
   "execution_count": 12,
   "metadata": {},
   "outputs": [],
   "source": [
    "all_countries.set_index('geonameid', inplace=True)"
   ]
  },
  {
   "cell_type": "code",
   "execution_count": 13,
   "metadata": {},
   "outputs": [
    {
     "name": "stderr",
     "output_type": "stream",
     "text": [
      "/home/gperakis/.local/share/virtualenvs/LGM-SimilarityLearning-L8_qfM0A/lib/python3.7/site-packages/ipykernel_launcher.py:1: FutureWarning: \n",
      "Passing list-likes to .loc or [] with any missing label will raise\n",
      "KeyError in the future, you can use .reindex() as an alternative.\n",
      "\n",
      "See the documentation here:\n",
      "https://pandas.pydata.org/pandas-docs/stable/indexing.html#deprecate-loc-reindex-listlike\n",
      "  \"\"\"Entry point for launching an IPython kernel.\n"
     ]
    }
   ],
   "source": [
    "all_countries_filtered = all_countries.loc[indexes]"
   ]
  },
  {
   "cell_type": "code",
   "execution_count": 14,
   "metadata": {
    "scrolled": false
   },
   "outputs": [
    {
     "data": {
      "text/html": [
       "<div>\n",
       "<style scoped>\n",
       "    .dataframe tbody tr th:only-of-type {\n",
       "        vertical-align: middle;\n",
       "    }\n",
       "\n",
       "    .dataframe tbody tr th {\n",
       "        vertical-align: top;\n",
       "    }\n",
       "\n",
       "    .dataframe thead th {\n",
       "        text-align: right;\n",
       "    }\n",
       "</style>\n",
       "<table border=\"1\" class=\"dataframe\">\n",
       "  <thead>\n",
       "    <tr style=\"text-align: right;\">\n",
       "      <th></th>\n",
       "      <th>name</th>\n",
       "      <th>ascii_name</th>\n",
       "      <th>alternate_names</th>\n",
       "      <th>country_code</th>\n",
       "      <th>cc2</th>\n",
       "    </tr>\n",
       "    <tr>\n",
       "      <th>geonameid</th>\n",
       "      <th></th>\n",
       "      <th></th>\n",
       "      <th></th>\n",
       "      <th></th>\n",
       "      <th></th>\n",
       "    </tr>\n",
       "  </thead>\n",
       "  <tbody>\n",
       "    <tr>\n",
       "      <th>8242218</th>\n",
       "      <td>Ban Bang Wang</td>\n",
       "      <td>Ban Bang Wang</td>\n",
       "      <td>Ban Bang Wang,ban bang wang,บ้านบางวัง</td>\n",
       "      <td>TH</td>\n",
       "      <td>None</td>\n",
       "    </tr>\n",
       "    <tr>\n",
       "      <th>9532754</th>\n",
       "      <td>Rāh Jūyān</td>\n",
       "      <td>Rah Juyan</td>\n",
       "      <td>Mazra`eh-ye Rah Juyan,Mazra‘eh-ye Rāh Jūyān,Ra...</td>\n",
       "      <td>IR</td>\n",
       "      <td>None</td>\n",
       "    </tr>\n",
       "    <tr>\n",
       "      <th>7537207</th>\n",
       "      <td>Helong Huanggou Linchang</td>\n",
       "      <td>Helong Huanggou Linchang</td>\n",
       "      <td>Helong Huanggou Linchang,he long huang gou lin...</td>\n",
       "      <td>CN</td>\n",
       "      <td>None</td>\n",
       "    </tr>\n",
       "    <tr>\n",
       "      <th>1810510</th>\n",
       "      <td>Gaojiazhai</td>\n",
       "      <td>Gaojiazhai</td>\n",
       "      <td>Gaojiazhai,Kao-chia-chai,gao jia zhai,高家寨</td>\n",
       "      <td>CN</td>\n",
       "      <td>None</td>\n",
       "    </tr>\n",
       "    <tr>\n",
       "      <th>10427219</th>\n",
       "      <td>Ryōsei</td>\n",
       "      <td>Ryosei</td>\n",
       "      <td>Ryosei,Ryōsei,ling xi,綾西</td>\n",
       "      <td>JP</td>\n",
       "      <td>None</td>\n",
       "    </tr>\n",
       "    <tr>\n",
       "      <th>490247</th>\n",
       "      <td>Sosnovka</td>\n",
       "      <td>Sosnovka</td>\n",
       "      <td>Kashlyach'ye,Kashlyach’ye,Koshlyach'ye,Koshlya...</td>\n",
       "      <td>RU</td>\n",
       "      <td>None</td>\n",
       "    </tr>\n",
       "    <tr>\n",
       "      <th>258461</th>\n",
       "      <td>Leventiés</td>\n",
       "      <td>Leventies</td>\n",
       "      <td>Levendies,Levendiés,Leventies,Leventiés,Λεβεντιές</td>\n",
       "      <td>GR</td>\n",
       "      <td>None</td>\n",
       "    </tr>\n",
       "    <tr>\n",
       "      <th>2684859</th>\n",
       "      <td>Övre Bondestad</td>\n",
       "      <td>Ovre Bondestad</td>\n",
       "      <td>Bondestad,OEvre Bondestad,Ovre Bondestad,Övre ...</td>\n",
       "      <td>SE</td>\n",
       "      <td>SE</td>\n",
       "    </tr>\n",
       "    <tr>\n",
       "      <th>11190734</th>\n",
       "      <td>Abuli P’oshut</td>\n",
       "      <td>Abuli P'oshut</td>\n",
       "      <td>Abuli P'oshut,Abuli P’oshut,Աբուլի փոշուտ</td>\n",
       "      <td>AM</td>\n",
       "      <td>None</td>\n",
       "    </tr>\n",
       "    <tr>\n",
       "      <th>8057771</th>\n",
       "      <td>Tlyavgulovo</td>\n",
       "      <td>Tlyavgulovo</td>\n",
       "      <td>Tljavgulovo,Tlyavgulovo,Тлявгулово</td>\n",
       "      <td>RU</td>\n",
       "      <td>None</td>\n",
       "    </tr>\n",
       "  </tbody>\n",
       "</table>\n",
       "</div>"
      ],
      "text/plain": [
       "                               name                ascii_name  \\\n",
       "geonameid                                                       \n",
       "8242218               Ban Bang Wang             Ban Bang Wang   \n",
       "9532754                   Rāh Jūyān                 Rah Juyan   \n",
       "7537207    Helong Huanggou Linchang  Helong Huanggou Linchang   \n",
       "1810510                  Gaojiazhai                Gaojiazhai   \n",
       "10427219                     Ryōsei                    Ryosei   \n",
       "490247                     Sosnovka                  Sosnovka   \n",
       "258461                    Leventiés                 Leventies   \n",
       "2684859              Övre Bondestad            Ovre Bondestad   \n",
       "11190734              Abuli P’oshut             Abuli P'oshut   \n",
       "8057771                 Tlyavgulovo               Tlyavgulovo   \n",
       "\n",
       "                                             alternate_names country_code  \\\n",
       "geonameid                                                                   \n",
       "8242218               Ban Bang Wang,ban bang wang,บ้านบางวัง           TH   \n",
       "9532754    Mazra`eh-ye Rah Juyan,Mazra‘eh-ye Rāh Jūyān,Ra...           IR   \n",
       "7537207    Helong Huanggou Linchang,he long huang gou lin...           CN   \n",
       "1810510            Gaojiazhai,Kao-chia-chai,gao jia zhai,高家寨           CN   \n",
       "10427219                            Ryosei,Ryōsei,ling xi,綾西           JP   \n",
       "490247     Kashlyach'ye,Kashlyach’ye,Koshlyach'ye,Koshlya...           RU   \n",
       "258461     Levendies,Levendiés,Leventies,Leventiés,Λεβεντιές           GR   \n",
       "2684859    Bondestad,OEvre Bondestad,Ovre Bondestad,Övre ...           SE   \n",
       "11190734           Abuli P'oshut,Abuli P’oshut,Աբուլի փոշուտ           AM   \n",
       "8057771                   Tljavgulovo,Tlyavgulovo,Тлявгулово           RU   \n",
       "\n",
       "            cc2  \n",
       "geonameid        \n",
       "8242218    None  \n",
       "9532754    None  \n",
       "7537207    None  \n",
       "1810510    None  \n",
       "10427219   None  \n",
       "490247     None  \n",
       "258461     None  \n",
       "2684859      SE  \n",
       "11190734   None  \n",
       "8057771    None  "
      ]
     },
     "execution_count": 14,
     "metadata": {},
     "output_type": "execute_result"
    }
   ],
   "source": [
    "all_countries_filtered.sample(10)"
   ]
  },
  {
   "cell_type": "code",
   "execution_count": 15,
   "metadata": {},
   "outputs": [],
   "source": [
    "all_countries_filtered.to_csv('../../data/all_countries_filtered_rows_&_columns.csv', index=True, encoding='utf-8')"
   ]
  },
  {
   "cell_type": "code",
   "execution_count": 23,
   "metadata": {
    "scrolled": true
   },
   "outputs": [
    {
     "data": {
      "text/html": [
       "<div>\n",
       "<style scoped>\n",
       "    .dataframe tbody tr th:only-of-type {\n",
       "        vertical-align: middle;\n",
       "    }\n",
       "\n",
       "    .dataframe tbody tr th {\n",
       "        vertical-align: top;\n",
       "    }\n",
       "\n",
       "    .dataframe thead th {\n",
       "        text-align: right;\n",
       "    }\n",
       "</style>\n",
       "<table border=\"1\" class=\"dataframe\">\n",
       "  <thead>\n",
       "    <tr style=\"text-align: right;\">\n",
       "      <th></th>\n",
       "      <th>name</th>\n",
       "      <th>ascii_name</th>\n",
       "      <th>alternate_names</th>\n",
       "      <th>country_code</th>\n",
       "      <th>cc2</th>\n",
       "    </tr>\n",
       "    <tr>\n",
       "      <th>geonameid</th>\n",
       "      <th></th>\n",
       "      <th></th>\n",
       "      <th></th>\n",
       "      <th></th>\n",
       "      <th></th>\n",
       "    </tr>\n",
       "  </thead>\n",
       "  <tbody>\n",
       "    <tr>\n",
       "      <th>2204091</th>\n",
       "      <td>Madre</td>\n",
       "      <td>Madre</td>\n",
       "      <td>Madre,Mandre,Mbualu Peak,Nabouwalu,Nambouwalu</td>\n",
       "      <td>FJ</td>\n",
       "      <td>None</td>\n",
       "    </tr>\n",
       "    <tr>\n",
       "      <th>728915</th>\n",
       "      <td>Murgash</td>\n",
       "      <td>Murgash</td>\n",
       "      <td>Murgasch,Murgash,Мургаш</td>\n",
       "      <td>BG</td>\n",
       "      <td>None</td>\n",
       "    </tr>\n",
       "    <tr>\n",
       "      <th>10188458</th>\n",
       "      <td>Lugouxian</td>\n",
       "      <td>Lugouxian</td>\n",
       "      <td>Lugouxian,lu gou xian,路沟岘</td>\n",
       "      <td>CN</td>\n",
       "      <td>None</td>\n",
       "    </tr>\n",
       "    <tr>\n",
       "      <th>9629741</th>\n",
       "      <td>Dongfangshun</td>\n",
       "      <td>Dongfangshun</td>\n",
       "      <td>Dongfangshun,dong fang shun,东方顺</td>\n",
       "      <td>CN</td>\n",
       "      <td>None</td>\n",
       "    </tr>\n",
       "    <tr>\n",
       "      <th>1699090</th>\n",
       "      <td>Science City of Muñoz</td>\n",
       "      <td>Science City of Munoz</td>\n",
       "      <td>Lungsod ng Munoz,Lungsod ng Muñoz,Munoz,Munoz ...</td>\n",
       "      <td>PH</td>\n",
       "      <td>None</td>\n",
       "    </tr>\n",
       "    <tr>\n",
       "      <th>8570416</th>\n",
       "      <td>Hejiaxinji</td>\n",
       "      <td>Hejiaxinji</td>\n",
       "      <td>Hejiaxinji,he jia xin ji,何家新集</td>\n",
       "      <td>CN</td>\n",
       "      <td>None</td>\n",
       "    </tr>\n",
       "    <tr>\n",
       "      <th>1803422</th>\n",
       "      <td>Linhai</td>\n",
       "      <td>Linhai</td>\n",
       "      <td>LHC,Lin-hai-hsien,Linhai,T'ai-chou,Taichow,Tai...</td>\n",
       "      <td>CN</td>\n",
       "      <td>None</td>\n",
       "    </tr>\n",
       "    <tr>\n",
       "      <th>7676365</th>\n",
       "      <td>Huai Sing</td>\n",
       "      <td>Huai Sing</td>\n",
       "      <td>Huai Sing,hwy sing,ห้วยซิง</td>\n",
       "      <td>TH</td>\n",
       "      <td>None</td>\n",
       "    </tr>\n",
       "    <tr>\n",
       "      <th>940433</th>\n",
       "      <td>Wespark</td>\n",
       "      <td>Wespark</td>\n",
       "      <td>Wespark,West Fort,West Park</td>\n",
       "      <td>ZA</td>\n",
       "      <td>None</td>\n",
       "    </tr>\n",
       "    <tr>\n",
       "      <th>11236341</th>\n",
       "      <td>Dujiabo Shequ</td>\n",
       "      <td>Dujiabo Shequ</td>\n",
       "      <td>Dujiabo Shequ,Dujiabocun,du jia po cun,du jia ...</td>\n",
       "      <td>CN</td>\n",
       "      <td>None</td>\n",
       "    </tr>\n",
       "  </tbody>\n",
       "</table>\n",
       "</div>"
      ],
      "text/plain": [
       "                            name             ascii_name  \\\n",
       "geonameid                                                 \n",
       "2204091                    Madre                  Madre   \n",
       "728915                   Murgash                Murgash   \n",
       "10188458               Lugouxian              Lugouxian   \n",
       "9629741             Dongfangshun           Dongfangshun   \n",
       "1699090    Science City of Muñoz  Science City of Munoz   \n",
       "8570416               Hejiaxinji             Hejiaxinji   \n",
       "1803422                   Linhai                 Linhai   \n",
       "7676365                Huai Sing              Huai Sing   \n",
       "940433                   Wespark                Wespark   \n",
       "11236341           Dujiabo Shequ          Dujiabo Shequ   \n",
       "\n",
       "                                             alternate_names country_code  \\\n",
       "geonameid                                                                   \n",
       "2204091        Madre,Mandre,Mbualu Peak,Nabouwalu,Nambouwalu           FJ   \n",
       "728915                               Murgasch,Murgash,Мургаш           BG   \n",
       "10188458                           Lugouxian,lu gou xian,路沟岘           CN   \n",
       "9629741                      Dongfangshun,dong fang shun,东方顺           CN   \n",
       "1699090    Lungsod ng Munoz,Lungsod ng Muñoz,Munoz,Munoz ...           PH   \n",
       "8570416                        Hejiaxinji,he jia xin ji,何家新集           CN   \n",
       "1803422    LHC,Lin-hai-hsien,Linhai,T'ai-chou,Taichow,Tai...           CN   \n",
       "7676365                           Huai Sing,hwy sing,ห้วยซิง           TH   \n",
       "940433                           Wespark,West Fort,West Park           ZA   \n",
       "11236341   Dujiabo Shequ,Dujiabocun,du jia po cun,du jia ...           CN   \n",
       "\n",
       "            cc2  \n",
       "geonameid        \n",
       "2204091    None  \n",
       "728915     None  \n",
       "10188458   None  \n",
       "9629741    None  \n",
       "1699090    None  \n",
       "8570416    None  \n",
       "1803422    None  \n",
       "7676365    None  \n",
       "940433     None  \n",
       "11236341   None  "
      ]
     },
     "execution_count": 23,
     "metadata": {},
     "output_type": "execute_result"
    }
   ],
   "source": [
    "all_countries_filtered.sample(10)"
   ]
  },
  {
   "cell_type": "code",
   "execution_count": null,
   "metadata": {},
   "outputs": [],
   "source": []
  }
 ],
 "metadata": {
  "kernelspec": {
   "display_name": "Python 3",
   "language": "python",
   "name": "python3"
  },
  "language_info": {
   "codemirror_mode": {
    "name": "ipython",
    "version": 3
   },
   "file_extension": ".py",
   "mimetype": "text/x-python",
   "name": "python",
   "nbconvert_exporter": "python",
   "pygments_lexer": "ipython3",
   "version": "3.7.3"
  }
 },
 "nbformat": 4,
 "nbformat_minor": 2
}
