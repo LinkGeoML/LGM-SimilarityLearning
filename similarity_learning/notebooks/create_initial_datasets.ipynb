{
 "cells": [
  {
   "cell_type": "code",
   "execution_count": 1,
   "metadata": {},
   "outputs": [],
   "source": [
    "import pandas as pd\n",
    "from tqdm import tqdm\n",
    "\n",
    "tqdm.pandas()"
   ]
  },
  {
   "cell_type": "markdown",
   "metadata": {},
   "source": [
    "# Train - Val - Test Dataset"
   ]
  },
  {
   "cell_type": "code",
   "execution_count": 2,
   "metadata": {},
   "outputs": [],
   "source": [
    "df = pd.read_csv('allCountries.txt', sep='\\t', header=None, usecols=[1,2,3])\n",
    "df = df.where((pd.notnull(df)), None)"
   ]
  },
  {
   "cell_type": "code",
   "execution_count": 3,
   "metadata": {},
   "outputs": [
    {
     "name": "stderr",
     "output_type": "stream",
     "text": [
      "100%|██████████| 11947366/11947366 [00:22<00:00, 534715.42it/s]\n",
      "100%|██████████| 11947366/11947366 [00:26<00:00, 455146.14it/s]\n"
     ]
    }
   ],
   "source": [
    "# convert second column from string to a set with a single string\n",
    "df[2] = df[2].progress_apply(lambda x: {x} if x else set())\n",
    "# split the variations and add them to a set\n",
    "df[3] = df[3].progress_apply(lambda x: set(x.split(',')) if x else set())"
   ]
  },
  {
   "cell_type": "code",
   "execution_count": 4,
   "metadata": {},
   "outputs": [
    {
     "name": "stderr",
     "output_type": "stream",
     "text": [
      "100%|██████████| 11947366/11947366 [08:31<00:00, 23368.70it/s]\n"
     ]
    }
   ],
   "source": [
    "# calculate the variations by taking the union on the 2, 3 columns and removing (if exists) the one from the first column\n",
    "df['variations'] = df.progress_apply(lambda row: (row[2] | row[3]) - {row[1]}, axis=1)"
   ]
  },
  {
   "cell_type": "code",
   "execution_count": 5,
   "metadata": {},
   "outputs": [],
   "source": [
    "# keeping only the toponym and it's variations\n",
    "df = df[[1, 'variations']]\n",
    "df.columns = ['toponym', 'variations']"
   ]
  },
  {
   "cell_type": "code",
   "execution_count": 6,
   "metadata": {},
   "outputs": [
    {
     "name": "stderr",
     "output_type": "stream",
     "text": [
      "100%|██████████| 11947366/11947366 [00:15<00:00, 775704.35it/s]\n"
     ]
    }
   ],
   "source": [
    "# sorting the variations and converting back to string using the \" || \" separator\n",
    "df['variations'] = df['variations'].progress_apply(lambda x: ' || '.join(sorted(x)))"
   ]
  },
  {
   "cell_type": "code",
   "execution_count": 7,
   "metadata": {},
   "outputs": [],
   "source": [
    "df.to_csv('all_countries_cleaned.csv', index=False, encoding='utf-8')"
   ]
  },
  {
   "cell_type": "markdown",
   "metadata": {},
   "source": [
    "# Test Dataset"
   ]
  },
  {
   "cell_type": "code",
   "execution_count": 8,
   "metadata": {},
   "outputs": [
    {
     "data": {
      "text/html": [
       "<div>\n",
       "<style scoped>\n",
       "    .dataframe tbody tr th:only-of-type {\n",
       "        vertical-align: middle;\n",
       "    }\n",
       "\n",
       "    .dataframe tbody tr th {\n",
       "        vertical-align: top;\n",
       "    }\n",
       "\n",
       "    .dataframe thead th {\n",
       "        text-align: right;\n",
       "    }\n",
       "</style>\n",
       "<table border=\"1\" class=\"dataframe\">\n",
       "  <thead>\n",
       "    <tr style=\"text-align: right;\">\n",
       "      <th></th>\n",
       "      <th>0</th>\n",
       "      <th>1</th>\n",
       "    </tr>\n",
       "  </thead>\n",
       "  <tbody>\n",
       "    <tr>\n",
       "      <th>0</th>\n",
       "      <td>la dom nxy</td>\n",
       "      <td>ลำโดมน้อย</td>\n",
       "    </tr>\n",
       "    <tr>\n",
       "      <th>1</th>\n",
       "      <td>Sharunyata</td>\n",
       "      <td>Shartjugskij</td>\n",
       "    </tr>\n",
       "    <tr>\n",
       "      <th>2</th>\n",
       "      <td>Krutoy</td>\n",
       "      <td>Крутой</td>\n",
       "    </tr>\n",
       "    <tr>\n",
       "      <th>3</th>\n",
       "      <td>Sutangcun</td>\n",
       "      <td>羊山村</td>\n",
       "    </tr>\n",
       "    <tr>\n",
       "      <th>4</th>\n",
       "      <td>Jowkār-e Shafī‘</td>\n",
       "      <td>جوکار شفیع</td>\n",
       "    </tr>\n",
       "  </tbody>\n",
       "</table>\n",
       "</div>"
      ],
      "text/plain": [
       "                 0             1\n",
       "0       la dom nxy     ลำโดมน้อย\n",
       "1       Sharunyata  Shartjugskij\n",
       "2           Krutoy        Крутой\n",
       "3        Sutangcun           羊山村\n",
       "4  Jowkār-e Shafī‘    جوکار شفیع"
      ]
     },
     "execution_count": 8,
     "metadata": {},
     "output_type": "execute_result"
    }
   ],
   "source": [
    "# reading the pre-constructed test dataset. \n",
    "# We want to remove any of the instances from the train-val-test dataset in order to avoid\n",
    "# information leakage\n",
    "test_df = pd.read_csv('dataset-string-similarity.txt', sep='\\t', header=None, encoding='utf-8', usecols=[0,1])\n",
    "test_df = test_df.where((pd.notnull(test_df)), None)\n",
    "test_df.head()"
   ]
  },
  {
   "cell_type": "code",
   "execution_count": 9,
   "metadata": {},
   "outputs": [],
   "source": [
    "# gathering all the toponyms and variations from the test dataset in a single set\n",
    "all_test_toponyms = set(filter(None, set(test_df[0]) | set(test_df[1])))"
   ]
  },
  {
   "cell_type": "code",
   "execution_count": 10,
   "metadata": {},
   "outputs": [
    {
     "data": {
      "text/plain": [
       "4587775"
      ]
     },
     "execution_count": 10,
     "metadata": {},
     "output_type": "execute_result"
    }
   ],
   "source": [
    "len(all_test_toponyms)"
   ]
  },
  {
   "cell_type": "code",
   "execution_count": 11,
   "metadata": {
    "scrolled": true
   },
   "outputs": [
    {
     "name": "stderr",
     "output_type": "stream",
     "text": [
      "100%|██████████| 11947366/11947366 [00:42<00:00, 281039.63it/s]\n"
     ]
    }
   ],
   "source": [
    "df['variations'] = df['variations'].progress_apply(lambda x: set(x.split(' || ')))"
   ]
  },
  {
   "cell_type": "code",
   "execution_count": 12,
   "metadata": {
    "scrolled": true
   },
   "outputs": [
    {
     "name": "stderr",
     "output_type": "stream",
     "text": [
      "100%|██████████| 11947366/11947366 [05:31<00:00, 36010.08it/s]\n"
     ]
    }
   ],
   "source": [
    "# get a single set from each row from the train-val-test dataset\n",
    "records = df.progress_apply(lambda row: {row['toponym']} | row['variations'], axis=1)"
   ]
  },
  {
   "cell_type": "code",
   "execution_count": 13,
   "metadata": {},
   "outputs": [],
   "source": [
    "records = records.to_frame()\n",
    "records.columns = ['records']"
   ]
  },
  {
   "cell_type": "code",
   "execution_count": 14,
   "metadata": {
    "scrolled": true
   },
   "outputs": [
    {
     "name": "stderr",
     "output_type": "stream",
     "text": [
      "100%|██████████| 11947366/11947366 [00:11<00:00, 1074537.19it/s]\n"
     ]
    }
   ],
   "source": [
    "records['len_records'] = records['records'].progress_apply(len)"
   ]
  },
  {
   "cell_type": "code",
   "execution_count": 15,
   "metadata": {},
   "outputs": [
    {
     "name": "stderr",
     "output_type": "stream",
     "text": [
      "100%|██████████| 11947366/11947366 [00:20<00:00, 577360.34it/s]\n"
     ]
    }
   ],
   "source": [
    "records['len_records_after'] = records['records'].progress_apply(lambda x: len(x - all_test_toponyms))"
   ]
  },
  {
   "cell_type": "code",
   "execution_count": 16,
   "metadata": {},
   "outputs": [],
   "source": [
    "records['in_test_set'] = records['len_records'] != records['len_records_after']"
   ]
  },
  {
   "cell_type": "code",
   "execution_count": 17,
   "metadata": {},
   "outputs": [],
   "source": [
    "train_val = records[~records['in_test_set']]\n",
    "test = records[records['in_test_set']]"
   ]
  },
  {
   "cell_type": "code",
   "execution_count": 18,
   "metadata": {},
   "outputs": [],
   "source": [
    "train_val_index = train_val.index\n",
    "test_index = test.index"
   ]
  },
  {
   "cell_type": "code",
   "execution_count": 19,
   "metadata": {},
   "outputs": [],
   "source": [
    "# del train_val\n",
    "# del records"
   ]
  },
  {
   "cell_type": "code",
   "execution_count": 20,
   "metadata": {
    "scrolled": true
   },
   "outputs": [],
   "source": [
    "train_val_df = df.loc[train_val_index]\n",
    "test_df = df.loc[test_index]"
   ]
  },
  {
   "cell_type": "code",
   "execution_count": 21,
   "metadata": {},
   "outputs": [
    {
     "name": "stderr",
     "output_type": "stream",
     "text": [
      "100%|██████████| 7861098/7861098 [00:09<00:00, 798553.13it/s]\n"
     ]
    }
   ],
   "source": [
    "# sorting the variations and converting back to string using the \" || \" separator\n",
    "train_val_df['variations'] = train_val_df['variations'].progress_apply(lambda x: ' || '.join(sorted(x)))"
   ]
  },
  {
   "cell_type": "code",
   "execution_count": 22,
   "metadata": {},
   "outputs": [],
   "source": [
    "train_val_df.to_csv('train_val_countries_cleaned.csv', index=False, encoding='utf-8')"
   ]
  },
  {
   "cell_type": "code",
   "execution_count": 27,
   "metadata": {},
   "outputs": [
    {
     "name": "stderr",
     "output_type": "stream",
     "text": [
      "100%|██████████| 4086268/4086268 [00:06<00:00, 598575.99it/s]\n"
     ]
    }
   ],
   "source": [
    "# sorting the variations and converting back to string using the \" || \" separator\n",
    "test_df['variations'] = test_df['variations'].progress_apply(lambda x: ' || '.join(sorted(x)))"
   ]
  },
  {
   "cell_type": "code",
   "execution_count": 28,
   "metadata": {},
   "outputs": [],
   "source": [
    "test_df.to_csv('test_countries_cleaned.csv', index=False, encoding='utf-8')"
   ]
  },
  {
   "cell_type": "code",
   "execution_count": null,
   "metadata": {},
   "outputs": [],
   "source": []
  }
 ],
 "metadata": {
  "kernelspec": {
   "display_name": "Python 3",
   "language": "python",
   "name": "python3"
  },
  "language_info": {
   "codemirror_mode": {
    "name": "ipython",
    "version": 3
   },
   "file_extension": ".py",
   "mimetype": "text/x-python",
   "name": "python",
   "nbconvert_exporter": "python",
   "pygments_lexer": "ipython3",
   "version": "3.7.3"
  }
 },
 "nbformat": 4,
 "nbformat_minor": 2
}
